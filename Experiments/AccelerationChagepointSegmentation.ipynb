{
 "cells": [
  {
   "cell_type": "code",
   "execution_count": 1,
   "metadata": {},
   "outputs": [],
   "source": [
    "import os, sys \n",
    "os.chdir(\"/private/home/tanmayshankar/Research/Code/\")"
   ]
  },
  {
   "cell_type": "code",
   "execution_count": 2,
   "metadata": {},
   "outputs": [],
   "source": [
    "from __future__ import absolute_import\n",
    "import matplotlib.pyplot as plt\n",
    "from scipy.signal import find_peaks, argrelextrema\n",
    "from SkillsfromDemonstrations.DataLoaders import MIME_DataLoader\n",
    "from SkillsfromDemonstrations.nnutils.train_utils import *\n",
    "from SkillsfromDemonstrations.Experiments.abstraction.abstraction_utils import *\n",
    "from SkillsfromDemonstrations.Experiments.SkillNetwork import TrainSkillNet\n",
    "import numpy as np\n",
    "plt.rcParams['figure.figsize'] = [14, 10]"
   ]
  },
  {
   "cell_type": "code",
   "execution_count": 3,
   "metadata": {},
   "outputs": [],
   "source": [
    "flags.FLAGS([''])\n",
    "opts = flags.FLAGS"
   ]
  },
  {
   "cell_type": "code",
   "execution_count": 4,
   "metadata": {},
   "outputs": [],
   "source": [
    "dataset = MIME_DataLoader.MIME_Dataset(opts)"
   ]
  },
  {
   "cell_type": "code",
   "execution_count": 5,
   "metadata": {
    "scrolled": true
   },
   "outputs": [
    {
     "data": {
      "text/plain": [
       "array([[ 1.05039334,  0.4874224 , -1.84614588,  1.15317006, -2.15255854,\n",
       "        -1.56887885,  1.53244681, -1.08490791,  0.44101948,  1.67587401,\n",
       "         1.35297105, -0.90850012,  1.45037883,  1.68584489,  1.        ,\n",
       "         1.        ],\n",
       "       [ 1.04885936,  0.48473793, -1.84269442,  1.1501021 , -2.15524301,\n",
       "        -1.56926235,  1.53206331, -1.08375743,  0.43871851,  1.67510702,\n",
       "         1.35182057, -0.9100341 ,  1.44769437,  1.6846944 ,  1.        ,\n",
       "         1.        ],\n",
       "       [ 1.03965548,  0.46786414, -1.84346141,  1.1501021 , -2.15677699,\n",
       "        -1.56887885,  1.53244681, -1.08414092,  0.43795151,  1.67434003,\n",
       "         1.34990309, -0.90888362,  1.44769437,  1.68584489,  1.        ,\n",
       "         1.        ],\n",
       "       [ 1.03428655,  0.45904375, -1.84116044,  1.15125258, -2.15639349,\n",
       "        -1.56926235,  1.53244681, -1.08222345,  0.43833501,  1.67434003,\n",
       "         1.3495196 , -0.90773313,  1.44807786,  1.68584489,  1.        ,\n",
       "         1.        ],\n",
       "       [ 1.02738363,  0.47016511, -1.83809248,  1.14780112, -2.12456339,\n",
       "        -1.54701962,  1.52899535, -1.08030597,  0.43680103,  1.67434003,\n",
       "         1.3495196 , -0.90811663,  1.45498078,  1.68622838,  1.        ,\n",
       "         1.        ],\n",
       "       [ 0.94569916,  0.49624278, -1.83770898,  1.15432054, -1.97538376,\n",
       "        -1.4051264 ,  1.54011671, -1.07915548,  0.43450006,  1.67242255,\n",
       "         1.3491361 , -0.90734964,  1.45498078,  1.68584489,  1.        ,\n",
       "         1.        ],\n",
       "       [ 0.76085447,  0.479369  , -1.84269442,  1.15508753, -1.8760585 ,\n",
       "        -1.31500503,  1.62563614, -1.07877199,  0.43411656,  1.67203906,\n",
       "         1.34875261, -0.90734964,  1.45191282,  1.68584489,  1.        ,\n",
       "         1.        ],\n",
       "       [ 0.56258745,  0.41072336, -1.84729636,  1.14780112, -1.87529151,\n",
       "        -1.35910698,  1.56197594, -1.07953898,  0.43373307,  1.67165556,\n",
       "         1.34836911, -0.90850012,  1.45191282,  1.68622838,  1.        ,\n",
       "         1.        ],\n",
       "       [ 0.359335  ,  0.32098548, -1.86493714,  1.1416652 , -1.87529151,\n",
       "        -1.48681088,  1.33839824, -1.07877199,  0.43411656,  1.67165556,\n",
       "         1.34798562, -0.90773313,  1.45114583,  1.68699537,  1.        ,\n",
       "         1.        ],\n",
       "       [ 0.1760243 ,  0.25617479, -1.89139831,  1.13706326, -1.87375753,\n",
       "        -1.53513127,  1.23907298, -1.0776215 ,  0.43296608,  1.67165556,\n",
       "         1.34760212, -0.90773313,  1.45229631,  1.68699537,  1.        ,\n",
       "         1.        ],\n",
       "       [-0.00306796,  0.23623304, -1.8925488 ,  1.09027684, -1.86762161,\n",
       "        -1.52055846,  1.21721376, -1.078005  ,  0.43373307,  1.67127207,\n",
       "         1.34836911, -0.90773313,  1.45152932,  1.68661188,  1.        ,\n",
       "         1.        ],\n",
       "       [-0.16145148,  0.28110198, -1.89446627,  0.98673314, -1.80933034,\n",
       "        -1.47990797,  1.21644676, -1.07723801,  0.43258258,  1.67127207,\n",
       "         1.34798562, -0.90773313,  1.45114583,  1.68661188,  1.        ,\n",
       "         1.        ],\n",
       "       [-0.30181072,  0.34629616, -1.89600025,  0.84407293, -1.66436915,\n",
       "        -1.45152932,  1.2218157 , -1.0776215 ,  0.43334957,  1.67127207,\n",
       "         1.34760212, -0.90734964,  1.45114583,  1.68699537,  1.        ,\n",
       "         1.        ],\n",
       "       [-0.40151947,  0.38848063, -1.89791773,  0.73592728, -1.55430603,\n",
       "        -1.41816524,  1.21874774, -1.07723801,  0.43296608,  1.67127207,\n",
       "         1.34760212, -0.90734964,  1.45152932,  1.68661188,  1.        ,\n",
       "         1.        ],\n",
       "       [-0.47975249,  0.4233787 , -1.89868472,  0.67418456, -1.50368467,\n",
       "        -1.37943222,  1.21989822, -1.07723801,  0.43334957,  1.67165556,\n",
       "         1.34760212, -0.90734964,  1.45152932,  1.68929634,  1.        ,\n",
       "         1.        ],\n",
       "       [-0.5269224 ,  0.44255346, -1.89945171,  0.6469564 , -1.36217494,\n",
       "        -1.31270406,  1.22296618, -1.07723801,  0.43334957,  1.67127207,\n",
       "         1.34721863, -0.90850012,  1.45191282,  1.68929634,  1.        ,\n",
       "         1.        ],\n",
       "       [-0.53957774,  0.44983987, -1.89983521,  0.64312145, -1.36294193,\n",
       "        -1.30656814,  1.22488366, -1.07647102,  0.43181559,  1.67165556,\n",
       "         1.34836911, -0.90734964,  1.45229631,  1.68929634,  1.        ,\n",
       "         1.        ],\n",
       "       [-0.53881075,  0.45750977, -1.9006022 ,  0.63391756, -1.36179144,\n",
       "        -1.30043221,  1.21721376, -1.07723801,  0.4314321 ,  1.67165556,\n",
       "         1.34798562, -0.90696614,  1.45191282,  1.68891285,  1.        ,\n",
       "         1.        ],\n",
       "       [-0.5349758 ,  0.46249521, -1.9002187 ,  0.63123309, -1.36332543,\n",
       "        -1.30043221,  1.21567977, -1.0776215 ,  0.43181559,  1.67203906,\n",
       "         1.34798562, -0.90658265,  1.45191282,  1.68967984,  1.        ,\n",
       "         1.        ],\n",
       "       [-0.52922337,  0.46441268, -1.89983521,  0.63238358, -1.37444679,\n",
       "        -1.30273318,  1.21989822, -1.07723801,  0.43066511,  1.67165556,\n",
       "         1.34875261, -0.90658265,  1.45191282,  1.68967984,  0.        ,\n",
       "         1.        ],\n",
       "       [-0.50928162,  0.46939812, -1.89830123,  0.64465543, -1.39860698,\n",
       "        -1.3096361 ,  1.23063609, -1.07685451,  0.4310486 ,  1.67165556,\n",
       "         1.34798562, -0.90734964,  1.45114583,  1.68891285,  0.        ,\n",
       "         1.        ],\n",
       "       [-0.46671365,  0.47361657, -1.89369928,  0.66498067, -1.42353417,\n",
       "        -1.32766037,  1.24367492, -1.07723801,  0.4310486 ,  1.67088857,\n",
       "         1.34760212, -0.90696614,  1.45191282,  1.68891285,  0.        ,\n",
       "         1.        ],\n",
       "       [-0.41954375,  0.479369  , -1.89101482,  0.69412631, -1.49831573,\n",
       "        -1.32075746,  1.25863124, -1.0776215 ,  0.43181559,  1.67165556,\n",
       "         1.34798562, -0.90734964,  1.45114583,  1.68891285,  0.        ,\n",
       "         1.        ],\n",
       "       [-0.38464568,  0.46786414, -1.90213618,  0.77849525, -1.62601964,\n",
       "        -1.30771862,  1.26093221, -1.07723801,  0.43066511,  1.67127207,\n",
       "         1.34721863, -0.90581566,  1.45076233,  1.68891285,  0.        ,\n",
       "         1.        ],\n",
       "       [-0.35703403,  0.41302433, -1.90673812,  0.89009235, -1.6290876 ,\n",
       "        -1.30848561,  1.24635939, -1.07647102,  0.4314321 ,  1.67165556,\n",
       "         1.34683513, -0.90658265,  1.45076233,  1.68929634,  0.        ,\n",
       "         1.        ],\n",
       "       [-0.35204859,  0.34744665, -1.90558763,  0.92997585, -1.6290876 ,\n",
       "        -1.32919435,  1.23600502, -1.07685451,  0.4310486 ,  1.67127207,\n",
       "         1.34683513, -0.90658265,  1.45076233,  1.68929634,  0.        ,\n",
       "         1.        ],\n",
       "       [-0.35319908,  0.32366995, -1.90482064,  0.92882537, -1.6290876 ,\n",
       "        -1.33878173,  1.23332055, -1.07685451,  0.4310486 ,  1.67203906,\n",
       "         1.34645164, -0.90581566,  1.45152932,  1.68891285,  0.        ,\n",
       "         1.        ],\n",
       "       [-0.35204859,  0.33018936, -1.90405365,  0.92844187, -1.62793711,\n",
       "        -1.33839824,  1.25019434, -1.07685451,  0.4314321 ,  1.67165556,\n",
       "         1.34606814, -0.90658265,  1.45114583,  1.68929634,  0.        ,\n",
       "         1.        ],\n",
       "       [-0.35319908,  0.33057286, -1.90482064,  0.92844187, -1.62793711,\n",
       "        -1.32881086,  1.27205357, -1.07608752,  0.4310486 ,  1.67127207,\n",
       "         1.34721863, -0.90658265,  1.45152932,  1.68967984,  0.        ,\n",
       "         1.        ],\n",
       "       [-0.35281558,  0.33095635, -1.90405365,  0.92844187, -1.62755362,\n",
       "        -1.3337963 ,  1.27435454, -1.07685451,  0.4314321 ,  1.67127207,\n",
       "         1.34645164, -0.90658265,  1.45114583,  1.68929634,  1.        ,\n",
       "         1.        ],\n",
       "       [-0.35204859,  0.33210684, -1.90520414,  0.92805838, -1.62601964,\n",
       "        -1.33916523,  1.27435454, -1.07685451,  0.4310486 ,  1.67165556,\n",
       "         1.34645164, -0.90619915,  1.45114583,  1.68891285,  1.        ,\n",
       "         1.        ],\n",
       "       [-0.3516651 ,  0.33095635, -1.90597113,  0.92230595, -1.62678663,\n",
       "        -1.34875261,  1.27435454, -1.07685451,  0.4314321 ,  1.67203906,\n",
       "         1.34683513, -0.90619915,  1.45114583,  1.68929634,  1.        ,\n",
       "         1.        ],\n",
       "       [-0.34821364,  0.32827189, -1.91517501,  0.89852925, -1.62985459,\n",
       "        -1.3813497 ,  1.27397104, -1.07647102,  0.4314321 ,  1.67357304,\n",
       "         1.34606814, -0.90581566,  1.45076233,  1.68967984,  1.        ,\n",
       "         1.        ],\n",
       "       [-0.33133985,  0.32597092, -1.96272842,  0.84177196, -1.67318954,\n",
       "        -1.41471378,  1.27435454, -1.07685451,  0.43066511,  1.67357304,\n",
       "         1.34683513, -0.90581566,  1.45114583,  1.68891285,  1.        ,\n",
       "         1.        ],\n",
       "       [-0.28416994,  0.30986412, -2.03712649,  0.72173796, -1.8680051 ,\n",
       "        -1.51749049,  1.29046134, -1.07723801,  0.4314321 ,  1.67280605,\n",
       "         1.34645164, -0.90581566,  1.45076233,  1.68891285,  1.        ,\n",
       "         1.        ],\n",
       "       [-0.20708741,  0.279568  , -2.0678061 ,  0.55261658, -2.09733523,\n",
       "        -1.556607  ,  1.35258756, -1.07685451,  0.4310486 ,  1.67242255,\n",
       "         1.34721863, -0.90658265,  1.45191282,  1.68852935,  1.        ,\n",
       "         1.        ],\n",
       "       [-0.09779128,  0.25272333, -2.07202455,  0.34131073, -2.22465564,\n",
       "        -1.56926235,  1.51135457, -1.07685451,  0.43181559,  1.67203906,\n",
       "         1.34645164, -0.90581566,  1.45191282,  1.68967984,  1.        ,\n",
       "         1.        ],\n",
       "       [ 0.01802427,  0.24275246, -2.07432552,  0.14227672, -2.22235467,\n",
       "        -1.57002934,  1.52631088, -1.07685451,  0.4314321 ,  1.67280605,\n",
       "         1.34683513, -0.90696614,  1.45076233,  1.68929634,  1.        ,\n",
       "         1.        ],\n",
       "       [ 0.12501943,  0.24658741, -2.07509251,  0.00536893, -2.16904883,\n",
       "        -1.56964584,  1.53704875, -1.07685451,  0.4310486 ,  1.67357304,\n",
       "         1.34721863, -0.90581566,  1.45076233,  1.68891285,  1.        ,\n",
       "         1.        ],\n",
       "       [ 0.19826702,  0.2557913 , -2.07394203, -0.02492719, -2.07317503,\n",
       "        -1.56926235,  1.53896623, -1.07608752,  0.43181559,  1.67280605,\n",
       "         1.34683513, -0.90581566,  1.45114583,  1.68967984,  1.        ,\n",
       "         1.        ],\n",
       "       [ 0.23584955,  0.27189809, -2.07662649, -0.03029612, -2.03904396,\n",
       "        -1.56926235,  1.53934972, -1.07685451,  0.43066511,  1.67318954,\n",
       "         1.34683513, -0.90543216,  1.45152932,  1.68891285,  1.        ,\n",
       "         1.        ],\n",
       "       [ 0.23546605,  0.27496606, -2.07739348, -0.02531068, -2.04096144,\n",
       "        -1.56811186,  1.53934972, -1.07685451,  0.4310486 ,  1.67280605,\n",
       "         1.34798562, -0.90543216,  1.45114583,  1.68814586,  1.        ,\n",
       "         1.        ],\n",
       "       [ 0.23316508,  0.27765052, -2.0758595 , -0.00460194, -2.0436459 ,\n",
       "        -1.56849536,  1.53896623, -1.07608752,  0.4314321 ,  1.67318954,\n",
       "         1.34798562, -0.90581566,  1.45152932,  1.68967984,  1.        ,\n",
       "         1.        ]])"
      ]
     },
     "execution_count": 5,
     "metadata": {},
     "output_type": "execute_result"
    }
   ],
   "source": [
    "data_element = dataset[0]\n",
    "# ja = de['joint_angle_trajectory']\n",
    "left_trajectory = data_element['la_trajectory']\n",
    "right_trajectory = data_element['ra_trajectory']\n",
    "left_gripper = data_element['left_gripper'].reshape((-1,1))\n",
    "right_gripper = data_element['right_gripper'].reshape((-1,1))\n",
    "\n",
    "concatenated_trajectory = np.concatenate([left_trajectory,right_trajectory,left_gripper,right_gripper],axis=1)\n",
    "concatenated_trajectory"
   ]
  },
  {
   "cell_type": "code",
   "execution_count": 6,
   "metadata": {},
   "outputs": [
    {
     "ename": "NameError",
     "evalue": "name 'ja' is not defined",
     "output_type": "error",
     "traceback": [
      "\u001b[0;31m---------------------------------------------------------------------------\u001b[0m",
      "\u001b[0;31mNameError\u001b[0m                                 Traceback (most recent call last)",
      "\u001b[0;32m<ipython-input-6-b7a91ac16910>\u001b[0m in \u001b[0;36m<module>\u001b[0;34m\u001b[0m\n\u001b[0;32m----> 1\u001b[0;31m \u001b[0mvel\u001b[0m \u001b[0;34m=\u001b[0m \u001b[0mnp\u001b[0m\u001b[0;34m.\u001b[0m\u001b[0mdiff\u001b[0m\u001b[0;34m(\u001b[0m\u001b[0mja\u001b[0m\u001b[0;34m,\u001b[0m\u001b[0mn\u001b[0m\u001b[0;34m=\u001b[0m\u001b[0;36m1\u001b[0m\u001b[0;34m,\u001b[0m\u001b[0maxis\u001b[0m\u001b[0;34m=\u001b[0m\u001b[0;36m0\u001b[0m\u001b[0;34m)\u001b[0m\u001b[0;34m\u001b[0m\u001b[0;34m\u001b[0m\u001b[0m\n\u001b[0m\u001b[1;32m      2\u001b[0m \u001b[0mvel_norm\u001b[0m \u001b[0;34m=\u001b[0m \u001b[0mnp\u001b[0m\u001b[0;34m.\u001b[0m\u001b[0mlinalg\u001b[0m\u001b[0;34m.\u001b[0m\u001b[0mnorm\u001b[0m\u001b[0;34m(\u001b[0m\u001b[0mvel\u001b[0m\u001b[0;34m,\u001b[0m\u001b[0maxis\u001b[0m\u001b[0;34m=\u001b[0m\u001b[0;36m1\u001b[0m\u001b[0;34m)\u001b[0m\u001b[0;34m\u001b[0m\u001b[0;34m\u001b[0m\u001b[0m\n\u001b[1;32m      3\u001b[0m \u001b[0macc\u001b[0m \u001b[0;34m=\u001b[0m \u001b[0mnp\u001b[0m\u001b[0;34m.\u001b[0m\u001b[0mdiff\u001b[0m\u001b[0;34m(\u001b[0m\u001b[0mja\u001b[0m\u001b[0;34m,\u001b[0m\u001b[0mn\u001b[0m\u001b[0;34m=\u001b[0m\u001b[0;36m2\u001b[0m\u001b[0;34m,\u001b[0m\u001b[0maxis\u001b[0m\u001b[0;34m=\u001b[0m\u001b[0;36m0\u001b[0m\u001b[0;34m)\u001b[0m\u001b[0;34m\u001b[0m\u001b[0;34m\u001b[0m\u001b[0m\n\u001b[1;32m      4\u001b[0m \u001b[0macc_norm\u001b[0m \u001b[0;34m=\u001b[0m \u001b[0mnp\u001b[0m\u001b[0;34m.\u001b[0m\u001b[0mlinalg\u001b[0m\u001b[0;34m.\u001b[0m\u001b[0mnorm\u001b[0m\u001b[0;34m(\u001b[0m\u001b[0macc\u001b[0m\u001b[0;34m,\u001b[0m\u001b[0maxis\u001b[0m\u001b[0;34m=\u001b[0m\u001b[0;36m1\u001b[0m\u001b[0;34m)\u001b[0m\u001b[0;34m\u001b[0m\u001b[0;34m\u001b[0m\u001b[0m\n",
      "\u001b[0;31mNameError\u001b[0m: name 'ja' is not defined"
     ]
    }
   ],
   "source": [
    "vel = np.diff(ja,n=1,axis=0)\n",
    "vel_norm = np.linalg.norm(vel,axis=1)\n",
    "acc = np.diff(ja,n=2,axis=0)\n",
    "acc_norm = np.linalg.norm(acc,axis=1)"
   ]
  },
  {
   "cell_type": "code",
   "execution_count": null,
   "metadata": {},
   "outputs": [],
   "source": [
    "acc = np.diff(concatenated_trajectory,n=2,axis=0)\n",
    "acc_norm = np.linalg.norm(acc,axis=1)"
   ]
  },
  {
   "cell_type": "code",
   "execution_count": null,
   "metadata": {},
   "outputs": [],
   "source": [
    "segs = find_peaks(acc_norm,distance=8)[0]\n",
    "sega = argrelextrema(acc_norm, np.greater, order=8)[0]\n",
    "segb = argrelextrema(acc_norm, np.less, order=8)[0]\n",
    "# sega, segb"
   ]
  },
  {
   "cell_type": "code",
   "execution_count": 35,
   "metadata": {},
   "outputs": [
    {
     "data": {
      "image/png": "[encoded data removed]",
      "text/plain": [
       "<Figure size 432x288 with 1 Axes>"
      ]
     },
     "metadata": {
      "needs_background": "light"
     },
     "output_type": "display_data"
    }
   ],
   "source": [
    "plt.plot(range(len(acc_norm)),acc_norm)\n",
    "plt.plot(segs,acc_norm[segs],'o')\n",
    "plt.plot(sega,acc_norm[sega],'or')\n",
    "plt.plot(segb,acc_norm[segb],'ok')\n",
    "plt.show()"
   ]
  },
  {
   "cell_type": "code",
   "execution_count": null,
   "metadata": {},
   "outputs": [],
   "source": [
    "plt.plot(range(len(ja)),ja[:,:-1])\n",
    "# plt.plot(segs,ja[segs,:-1],'o')\n",
    "plt.plot(sega,ja[sega,:-1],'or')\n",
    "plt.plot(segb,ja[segb,:-1],'ok')\n",
    "plt.show()"
   ]
  },
  {
   "cell_type": "code",
   "execution_count": 26,
   "metadata": {},
   "outputs": [
    {
     "name": "stdout",
     "output_type": "stream",
     "text": [
      "[ 5 14 22 35]\n"
     ]
    },
    {
     "data": {
      "text/plain": [
       "array([ 0,  5, 14, 22, 35, 43])"
      ]
     },
     "execution_count": 26,
     "metadata": {},
     "output_type": "execute_result"
    }
   ],
   "source": [
    "segs, sega\n",
    "import copy\n",
    "csegs = copy.deepcopy(segs)\n",
    "csegs = np.insert(csegs,0,0)\n",
    "csegs = np.insert(csegs,len(csegs),ja.shape[0])\n",
    "csegs"
   ]
  },
  {
   "cell_type": "code",
   "execution_count": null,
   "metadata": {},
   "outputs": [],
   "source": [
    "# # Create Skill Network model. \n",
    "# skillnet = PrimitiveDecoderKnownLength()\n",
    "# trainer_object = Trainer()\n",
    "# trainer_object.load_network(skillnet, 'pred', \n",
    "                           \n",
    "# trainer_object.load_network(skillnet, 'pred', opts.num_pretrain_skillnet_epoch,\n",
    "#                 network_dir='~/Research/Code/saved_models/' ,\n",
    "#                 network_dir=os.path.join('',opts.pretrain_skillnet_name)\n",
    "#                 module_name='decoder'\n",
    "#             ))"
   ]
  },
  {
   "cell_type": "code",
   "execution_count": 7,
   "metadata": {},
   "outputs": [
    {
     "name": "stdout",
     "output_type": "stream",
     "text": [
      "Networks Setup.\n"
     ]
    }
   ],
   "source": [
    "# Load skill network model.\n",
    "opts.n_state = 16\n",
    "opts.gripper = True\n",
    "skillnet_manager = TrainSkillNet.SkillNetworkManager(opts, dataset)\n",
    "skillnet_manager.setup()\n",
    "skillnet_manager.load_all_models(\"/private/home/tanmayshankar/Research/Code/saved_models/T42_startgoal_nofixed_botharms/Save_SkillModelepoch149\")"
   ]
  },
  {
   "cell_type": "markdown",
   "metadata": {},
   "source": [
    "**Evaluate Segmentation**  \n",
    "1) Iterate through trajectories  \n",
    "2) Compute segmentation via Find Peaks of acceleration norm  \n",
    "3) Pass each segment through the SkillNet  \n",
    "4) Concatenate predicted trajectories.  \n",
    "5) Compute Sequence Alignment loss between predicted and original trajectories.   "
   ]
  },
  {
   "cell_type": "code",
   "execution_count": null,
   "metadata": {},
   "outputs": [
    {
     "name": "stdout",
     "output_type": "stream",
     "text": [
      "Trajectory: 0\n",
      "Trajectory: 100\n",
      "Trajectory: 200\n",
      "Trajectory: 300\n",
      "Trajectory: 400\n",
      "Trajectory: 500\n",
      "Trajectory: 600\n",
      "Trajectory: 700\n",
      "Trajectory: 800\n",
      "Trajectory: 900\n",
      "Trajectory: 1000\n",
      "Trajectory: 1100\n",
      "Trajectory: 1200\n",
      "Trajectory: 1300\n",
      "Trajectory: 1400\n",
      "Trajectory: 1500\n",
      "Trajectory: 1600\n",
      "Trajectory: 1700\n",
      "Trajectory: 1800\n",
      "Trajectory: 1900\n",
      "Trajectory: 2000\n"
     ]
    }
   ],
   "source": [
    "opts.train=False\n",
    "alignment_losses = np.zeros((len(dataset)))\n",
    "trajectory_lengths = np.zeros((len(dataset)))\n",
    "\n",
    "for i in range(len(dataset)):\n",
    "    \n",
    "    if i%100==0:\n",
    "        print(\"Trajectory:\", i)\n",
    "        \n",
    "    # Get item from dataset.\n",
    "    data_element = dataset[i]\n",
    "    joint_traj = data_element['joint_angle_trajectory'][:,2:-1]\n",
    "    left_trajectory = data_element['la_trajectory']\n",
    "    right_trajectory = data_element['ra_trajectory']\n",
    "    left_gripper = data_element['left_gripper'].reshape((-1,1))\n",
    "    right_gripper = data_element['right_gripper'].reshape((-1,1))\n",
    "\n",
    "    concatenated_trajectory = np.concatenate([left_trajectory,right_trajectory,left_gripper,right_gripper],axis=1)\n",
    "        \n",
    "    if joint_traj.shape[0]>0:\n",
    "        \n",
    "        # Compute Acc. norm of joint_trajectory without grippers, because of sudden change of norm.\n",
    "        acceleration_norm = np.linalg.norm(np.diff(joint_traj,n=2,axis=0),axis=1)\n",
    "        \n",
    "        # Find peaks with minimum length = 8.\n",
    "        peaks = find_peaks(acceleration_norm, distance=8)[0]\n",
    "        \n",
    "        # Add start and end to peaks. \n",
    "        segmentation = np.insert(peaks, 0, 0)\n",
    "        segmentation = np.insert(segmentation, len(segmentation), joint_traj.shape[0])\n",
    "        \n",
    "        # Segment the trajectory.\n",
    "        trajectory_segments = []\n",
    "        predicted_trajectory_segments = []\n",
    "        for j in range(len(segmentation)-1):\n",
    "            \n",
    "            # Retrieve trajectory segments of CONCATENATED_TRAJECTORY - arms and grippers.\n",
    "            traj_seg = concatenated_trajectory[segmentation[j]:segmentation[j+1]]\n",
    "            trajectory_segments.append(copy.deepcopy(traj_seg))\n",
    "                        \n",
    "            # Feed segments into the Skillnet. \n",
    "            pred_traj_seg = skillnet_manager.run_iteration(0, traj_seg, retrieve=False, for_viz=True)\n",
    "            predicted_trajectory_segments.append(pred_traj_seg.clone().detach().cpu().numpy())\n",
    "                        \n",
    "        # Concatenate predictions. \n",
    "        predicted_trajectory = np.concatenate(predicted_trajectory_segments,axis=0)\n",
    "        \n",
    "        # Compute alignment loss.\n",
    "        alignment_losses[i] = skillnet_manager.align_loss_fn(torch.from_numpy(predicted_trajectory).double().cuda(),torch.from_numpy(concatenated_trajectory).double().cuda())/concatenated_trajectory.shape[0]\n",
    "        trajectory_lengths[i] = concatenated_trajectory.shape[0]"
   ]
  },
  {
   "cell_type": "code",
   "execution_count": null,
   "metadata": {},
   "outputs": [],
   "source": []
  }
 ],
 "metadata": {
  "kernelspec": {
   "display_name": "Python 3",
   "language": "python",
   "name": "python3"
  },
  "language_info": {
   "codemirror_mode": {
    "name": "ipython",
    "version": 3
   },
   "file_extension": ".py",
   "mimetype": "text/x-python",
   "name": "python",
   "nbconvert_exporter": "python",
   "pygments_lexer": "ipython3",
   "version": "3.7.3"
  }
 },
 "nbformat": 4,
 "nbformat_minor": 2
}
